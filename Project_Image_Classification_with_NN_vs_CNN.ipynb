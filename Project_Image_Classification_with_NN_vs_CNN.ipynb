{
  "nbformat": 4,
  "nbformat_minor": 0,
  "metadata": {
    "colab": {
      "provenance": [],
      "authorship_tag": "ABX9TyOvlfyPPnP9t+LzdpBJOgUI",
      "include_colab_link": true
    },
    "kernelspec": {
      "name": "python3",
      "display_name": "Python 3"
    },
    "language_info": {
      "name": "python"
    }
  },
  "cells": [
    {
      "cell_type": "markdown",
      "metadata": {
        "id": "view-in-github",
        "colab_type": "text"
      },
      "source": [
        "<a href=\"https://colab.research.google.com/github/ukfatima89/AI-Projects/blob/main/Project_Image_Classification_with_NN_vs_CNN.ipynb\" target=\"_parent\"><img src=\"https://colab.research.google.com/assets/colab-badge.svg\" alt=\"Open In Colab\"/></a>"
      ]
    },
    {
      "cell_type": "code",
      "execution_count": null,
      "metadata": {
        "id": "TZvrfW5YMIqm"
      },
      "outputs": [],
      "source": [
        "import tensorflow as tf"
      ]
    },
    {
      "cell_type": "markdown",
      "metadata": {
        "id": "eee7626b"
      },
      "source": [
        "Loading the dataset, normalizing pixel values, and preparing data for both NN and CNN models.\n"
      ]
    },
    {
      "cell_type": "code",
      "metadata": {
        "colab": {
          "base_uri": "https://localhost:8080/"
        },
        "id": "aa1506d0",
        "outputId": "3b77fc86-cbf3-4f81-c5ed-a7d9b28aeadf"
      },
      "source": [
        "# Load the Fashion MNIST dataset\n",
        "(x_train, y_train), (x_test, y_test) = tf.keras.datasets.fashion_mnist.load_data()\n",
        "\n",
        "# Normalize pixel values\n",
        "x_train_normalized = x_train.astype('float32') / 255.0\n",
        "x_test_normalized = x_test.astype('float32') / 255.0\n",
        "\n",
        "# Reshape data for Neural Network (NN)\n",
        "x_train_nn = x_train_normalized.reshape((x_train_normalized.shape[0], 28 * 28))\n",
        "x_test_nn = x_test_normalized.reshape((x_test_normalized.shape[0], 28 * 28))\n",
        "\n",
        "# Reshape data for Convolutional Neural Network (CNN)\n",
        "x_train_cnn = x_train_normalized.reshape((x_train_normalized.shape[0], 28, 28, 1))\n",
        "x_test_cnn = x_test_normalized.reshape((x_test_normalized.shape[0], 28, 28, 1))\n",
        "\n",
        "print(\"Data loading, normalization, and reshaping complete.\")\n",
        "print(f\"NN training data shape: {x_train_nn.shape}\")\n",
        "print(f\"NN testing data shape: {x_test_nn.shape}\")\n",
        "print(f\"CNN training data shape: {x_train_cnn.shape}\")\n",
        "print(f\"CNN testing data shape: {x_test_cnn.shape}\")"
      ],
      "execution_count": null,
      "outputs": [
        {
          "output_type": "stream",
          "name": "stdout",
          "text": [
            "Data loading, normalization, and reshaping complete.\n",
            "NN training data shape: (60000, 784)\n",
            "NN testing data shape: (10000, 784)\n",
            "CNN training data shape: (60000, 28, 28, 1)\n",
            "CNN testing data shape: (10000, 28, 28, 1)\n"
          ]
        }
      ]
    },
    {
      "cell_type": "markdown",
      "source": [
        "downloads and loads the Fashion MNIST dataset, splitting it into training and testing sets for both images (x_train, x_test) and their corresponding labels (y_train, y_test).\n",
        "\n",
        "Normalizes pixel values: The pixel values of the images (which are initially between 0 and 255) are converted to floating-point numbers and divided by 255.0. This scales the pixel values to the range [0, 1], which is a common practice for neural network inputs.\n",
        "\n",
        "Reshapes data for the Neural Network (NN): The training and testing images are flattened from their original 28x28 shape into a 1D array of 784 elements (28 * 28). This is because a basic Neural Network typically expects a flattened input layer.\n",
        "\n",
        "Reshapes data for the Convolutional Neural Network (CNN): The training and testing images are reshaped to include a channel dimension. The original 28x28 images are reshaped to 28x28x1. The '1' represents the single color channel (grayscale) of the images. CNNs typically require this channel dimension as input.\n",
        "\n",
        "The output shows that the data was successfully loaded and preprocessed. The shapes of the arrays confirm that:\n",
        "\n",
        "There are 60,000 training samples and 10,000 testing samples.\n",
        "The NN data is flattened to 784 features per sample.\n",
        "The CNN data retains the 28x28 spatial dimensions and has one channel."
      ],
      "metadata": {
        "id": "hm1wtdnMP8cn"
      }
    },
    {
      "cell_type": "markdown",
      "metadata": {
        "id": "6ddc106c"
      },
      "source": [
        "# *Going to Build, train, and evaluate the neural network (nn)*\n"
      ]
    },
    {
      "cell_type": "code",
      "metadata": {
        "colab": {
          "base_uri": "https://localhost:8080/",
          "height": 1000
        },
        "id": "9521415b",
        "outputId": "13ba0b83-1aed-4f0c-d8e2-b07f72b48e33"
      },
      "source": [
        "\n",
        "nn_model = tf.keras.Sequential([\n",
        "    tf.keras.layers.InputLayer(input_shape=(784,)),\n",
        "\n",
        "    tf.keras.layers.Dense(512),\n",
        "    tf.keras.layers.BatchNormalization(),\n",
        "    tf.keras.layers.LeakyReLU(alpha=0.01), # Using Leaky ReLU\n",
        "    tf.keras.layers.Dropout(0.25),\n",
        "    #Scond Layer\n",
        "    tf.keras.layers.Dense(256),\n",
        "    tf.keras.layers.BatchNormalization(),\n",
        "    tf.keras.layers.LeakyReLU(alpha = 0.01),\n",
        "    tf.keras.layers.Dropout(0.25),\n",
        "    #Third Layer\n",
        "    tf.keras.layers.Dense(128),\n",
        "    tf.keras.layers.BatchNormalization(),\n",
        "    tf.keras.layers.LeakyReLU(alpha = 0.01),\n",
        "    tf.keras.layers.Dropout(0.25),\n",
        "    #Output Layer\n",
        "    tf.keras.layers.Dense(10, activation='softmax')\n",
        "])\n",
        "\n",
        "\n",
        "# Compile the model\n",
        "nn_model.compile(optimizer='adam',\n",
        "                 loss=tf.keras.losses.SparseCategoricalCrossentropy(from_logits=False),\n",
        "                 metrics=['accuracy'])\n",
        "\n",
        "# Display the model summary\n",
        "nn_model.summary()\n",
        "\n",
        "# Train the model\n",
        "history_nn = nn_model.fit(x_train_nn, y_train, epochs=15, validation_split=0.2)\n",
        "\n",
        "# Evaluate the model on the test data\n",
        "loss_nn, accuracy_nn = nn_model.evaluate(x_test_nn, y_test)\n",
        "\n",
        "print(f\"\\nNeural Network Test Accuracy: {accuracy_nn}\")"
      ],
      "execution_count": null,
      "outputs": [
        {
          "output_type": "stream",
          "name": "stderr",
          "text": [
            "/usr/local/lib/python3.11/dist-packages/keras/src/layers/core/input_layer.py:27: UserWarning: Argument `input_shape` is deprecated. Use `shape` instead.\n",
            "  warnings.warn(\n",
            "/usr/local/lib/python3.11/dist-packages/keras/src/layers/activations/leaky_relu.py:41: UserWarning: Argument `alpha` is deprecated. Use `negative_slope` instead.\n",
            "  warnings.warn(\n"
          ]
        },
        {
          "output_type": "display_data",
          "data": {
            "text/plain": [
              "\u001b[1mModel: \"sequential_4\"\u001b[0m\n"
            ],
            "text/html": [
              "<pre style=\"white-space:pre;overflow-x:auto;line-height:normal;font-family:Menlo,'DejaVu Sans Mono',consolas,'Courier New',monospace\"><span style=\"font-weight: bold\">Model: \"sequential_4\"</span>\n",
              "</pre>\n"
            ]
          },
          "metadata": {}
        },
        {
          "output_type": "display_data",
          "data": {
            "text/plain": [
              "┏━━━━━━━━━━━━━━━━━━━━━━━━━━━━━━━━━┳━━━━━━━━━━━━━━━━━━━━━━━━┳━━━━━━━━━━━━━━━┓\n",
              "┃\u001b[1m \u001b[0m\u001b[1mLayer (type)                   \u001b[0m\u001b[1m \u001b[0m┃\u001b[1m \u001b[0m\u001b[1mOutput Shape          \u001b[0m\u001b[1m \u001b[0m┃\u001b[1m \u001b[0m\u001b[1m      Param #\u001b[0m\u001b[1m \u001b[0m┃\n",
              "┡━━━━━━━━━━━━━━━━━━━━━━━━━━━━━━━━━╇━━━━━━━━━━━━━━━━━━━━━━━━╇━━━━━━━━━━━━━━━┩\n",
              "│ dense_13 (\u001b[38;5;33mDense\u001b[0m)                │ (\u001b[38;5;45mNone\u001b[0m, \u001b[38;5;34m512\u001b[0m)            │       \u001b[38;5;34m401,920\u001b[0m │\n",
              "├─────────────────────────────────┼────────────────────────┼───────────────┤\n",
              "│ batch_normalization_8           │ (\u001b[38;5;45mNone\u001b[0m, \u001b[38;5;34m512\u001b[0m)            │         \u001b[38;5;34m2,048\u001b[0m │\n",
              "│ (\u001b[38;5;33mBatchNormalization\u001b[0m)            │                        │               │\n",
              "├─────────────────────────────────┼────────────────────────┼───────────────┤\n",
              "│ leaky_re_lu_8 (\u001b[38;5;33mLeakyReLU\u001b[0m)       │ (\u001b[38;5;45mNone\u001b[0m, \u001b[38;5;34m512\u001b[0m)            │             \u001b[38;5;34m0\u001b[0m │\n",
              "├─────────────────────────────────┼────────────────────────┼───────────────┤\n",
              "│ dropout_8 (\u001b[38;5;33mDropout\u001b[0m)             │ (\u001b[38;5;45mNone\u001b[0m, \u001b[38;5;34m512\u001b[0m)            │             \u001b[38;5;34m0\u001b[0m │\n",
              "├─────────────────────────────────┼────────────────────────┼───────────────┤\n",
              "│ dense_14 (\u001b[38;5;33mDense\u001b[0m)                │ (\u001b[38;5;45mNone\u001b[0m, \u001b[38;5;34m256\u001b[0m)            │       \u001b[38;5;34m131,328\u001b[0m │\n",
              "├─────────────────────────────────┼────────────────────────┼───────────────┤\n",
              "│ batch_normalization_9           │ (\u001b[38;5;45mNone\u001b[0m, \u001b[38;5;34m256\u001b[0m)            │         \u001b[38;5;34m1,024\u001b[0m │\n",
              "│ (\u001b[38;5;33mBatchNormalization\u001b[0m)            │                        │               │\n",
              "├─────────────────────────────────┼────────────────────────┼───────────────┤\n",
              "│ leaky_re_lu_9 (\u001b[38;5;33mLeakyReLU\u001b[0m)       │ (\u001b[38;5;45mNone\u001b[0m, \u001b[38;5;34m256\u001b[0m)            │             \u001b[38;5;34m0\u001b[0m │\n",
              "├─────────────────────────────────┼────────────────────────┼───────────────┤\n",
              "│ dropout_9 (\u001b[38;5;33mDropout\u001b[0m)             │ (\u001b[38;5;45mNone\u001b[0m, \u001b[38;5;34m256\u001b[0m)            │             \u001b[38;5;34m0\u001b[0m │\n",
              "├─────────────────────────────────┼────────────────────────┼───────────────┤\n",
              "│ dense_15 (\u001b[38;5;33mDense\u001b[0m)                │ (\u001b[38;5;45mNone\u001b[0m, \u001b[38;5;34m128\u001b[0m)            │        \u001b[38;5;34m32,896\u001b[0m │\n",
              "├─────────────────────────────────┼────────────────────────┼───────────────┤\n",
              "│ batch_normalization_10          │ (\u001b[38;5;45mNone\u001b[0m, \u001b[38;5;34m128\u001b[0m)            │           \u001b[38;5;34m512\u001b[0m │\n",
              "│ (\u001b[38;5;33mBatchNormalization\u001b[0m)            │                        │               │\n",
              "├─────────────────────────────────┼────────────────────────┼───────────────┤\n",
              "│ leaky_re_lu_10 (\u001b[38;5;33mLeakyReLU\u001b[0m)      │ (\u001b[38;5;45mNone\u001b[0m, \u001b[38;5;34m128\u001b[0m)            │             \u001b[38;5;34m0\u001b[0m │\n",
              "├─────────────────────────────────┼────────────────────────┼───────────────┤\n",
              "│ dropout_10 (\u001b[38;5;33mDropout\u001b[0m)            │ (\u001b[38;5;45mNone\u001b[0m, \u001b[38;5;34m128\u001b[0m)            │             \u001b[38;5;34m0\u001b[0m │\n",
              "├─────────────────────────────────┼────────────────────────┼───────────────┤\n",
              "│ dense_16 (\u001b[38;5;33mDense\u001b[0m)                │ (\u001b[38;5;45mNone\u001b[0m, \u001b[38;5;34m10\u001b[0m)             │         \u001b[38;5;34m1,290\u001b[0m │\n",
              "└─────────────────────────────────┴────────────────────────┴───────────────┘\n"
            ],
            "text/html": [
              "<pre style=\"white-space:pre;overflow-x:auto;line-height:normal;font-family:Menlo,'DejaVu Sans Mono',consolas,'Courier New',monospace\">┏━━━━━━━━━━━━━━━━━━━━━━━━━━━━━━━━━┳━━━━━━━━━━━━━━━━━━━━━━━━┳━━━━━━━━━━━━━━━┓\n",
              "┃<span style=\"font-weight: bold\"> Layer (type)                    </span>┃<span style=\"font-weight: bold\"> Output Shape           </span>┃<span style=\"font-weight: bold\">       Param # </span>┃\n",
              "┡━━━━━━━━━━━━━━━━━━━━━━━━━━━━━━━━━╇━━━━━━━━━━━━━━━━━━━━━━━━╇━━━━━━━━━━━━━━━┩\n",
              "│ dense_13 (<span style=\"color: #0087ff; text-decoration-color: #0087ff\">Dense</span>)                │ (<span style=\"color: #00d7ff; text-decoration-color: #00d7ff\">None</span>, <span style=\"color: #00af00; text-decoration-color: #00af00\">512</span>)            │       <span style=\"color: #00af00; text-decoration-color: #00af00\">401,920</span> │\n",
              "├─────────────────────────────────┼────────────────────────┼───────────────┤\n",
              "│ batch_normalization_8           │ (<span style=\"color: #00d7ff; text-decoration-color: #00d7ff\">None</span>, <span style=\"color: #00af00; text-decoration-color: #00af00\">512</span>)            │         <span style=\"color: #00af00; text-decoration-color: #00af00\">2,048</span> │\n",
              "│ (<span style=\"color: #0087ff; text-decoration-color: #0087ff\">BatchNormalization</span>)            │                        │               │\n",
              "├─────────────────────────────────┼────────────────────────┼───────────────┤\n",
              "│ leaky_re_lu_8 (<span style=\"color: #0087ff; text-decoration-color: #0087ff\">LeakyReLU</span>)       │ (<span style=\"color: #00d7ff; text-decoration-color: #00d7ff\">None</span>, <span style=\"color: #00af00; text-decoration-color: #00af00\">512</span>)            │             <span style=\"color: #00af00; text-decoration-color: #00af00\">0</span> │\n",
              "├─────────────────────────────────┼────────────────────────┼───────────────┤\n",
              "│ dropout_8 (<span style=\"color: #0087ff; text-decoration-color: #0087ff\">Dropout</span>)             │ (<span style=\"color: #00d7ff; text-decoration-color: #00d7ff\">None</span>, <span style=\"color: #00af00; text-decoration-color: #00af00\">512</span>)            │             <span style=\"color: #00af00; text-decoration-color: #00af00\">0</span> │\n",
              "├─────────────────────────────────┼────────────────────────┼───────────────┤\n",
              "│ dense_14 (<span style=\"color: #0087ff; text-decoration-color: #0087ff\">Dense</span>)                │ (<span style=\"color: #00d7ff; text-decoration-color: #00d7ff\">None</span>, <span style=\"color: #00af00; text-decoration-color: #00af00\">256</span>)            │       <span style=\"color: #00af00; text-decoration-color: #00af00\">131,328</span> │\n",
              "├─────────────────────────────────┼────────────────────────┼───────────────┤\n",
              "│ batch_normalization_9           │ (<span style=\"color: #00d7ff; text-decoration-color: #00d7ff\">None</span>, <span style=\"color: #00af00; text-decoration-color: #00af00\">256</span>)            │         <span style=\"color: #00af00; text-decoration-color: #00af00\">1,024</span> │\n",
              "│ (<span style=\"color: #0087ff; text-decoration-color: #0087ff\">BatchNormalization</span>)            │                        │               │\n",
              "├─────────────────────────────────┼────────────────────────┼───────────────┤\n",
              "│ leaky_re_lu_9 (<span style=\"color: #0087ff; text-decoration-color: #0087ff\">LeakyReLU</span>)       │ (<span style=\"color: #00d7ff; text-decoration-color: #00d7ff\">None</span>, <span style=\"color: #00af00; text-decoration-color: #00af00\">256</span>)            │             <span style=\"color: #00af00; text-decoration-color: #00af00\">0</span> │\n",
              "├─────────────────────────────────┼────────────────────────┼───────────────┤\n",
              "│ dropout_9 (<span style=\"color: #0087ff; text-decoration-color: #0087ff\">Dropout</span>)             │ (<span style=\"color: #00d7ff; text-decoration-color: #00d7ff\">None</span>, <span style=\"color: #00af00; text-decoration-color: #00af00\">256</span>)            │             <span style=\"color: #00af00; text-decoration-color: #00af00\">0</span> │\n",
              "├─────────────────────────────────┼────────────────────────┼───────────────┤\n",
              "│ dense_15 (<span style=\"color: #0087ff; text-decoration-color: #0087ff\">Dense</span>)                │ (<span style=\"color: #00d7ff; text-decoration-color: #00d7ff\">None</span>, <span style=\"color: #00af00; text-decoration-color: #00af00\">128</span>)            │        <span style=\"color: #00af00; text-decoration-color: #00af00\">32,896</span> │\n",
              "├─────────────────────────────────┼────────────────────────┼───────────────┤\n",
              "│ batch_normalization_10          │ (<span style=\"color: #00d7ff; text-decoration-color: #00d7ff\">None</span>, <span style=\"color: #00af00; text-decoration-color: #00af00\">128</span>)            │           <span style=\"color: #00af00; text-decoration-color: #00af00\">512</span> │\n",
              "│ (<span style=\"color: #0087ff; text-decoration-color: #0087ff\">BatchNormalization</span>)            │                        │               │\n",
              "├─────────────────────────────────┼────────────────────────┼───────────────┤\n",
              "│ leaky_re_lu_10 (<span style=\"color: #0087ff; text-decoration-color: #0087ff\">LeakyReLU</span>)      │ (<span style=\"color: #00d7ff; text-decoration-color: #00d7ff\">None</span>, <span style=\"color: #00af00; text-decoration-color: #00af00\">128</span>)            │             <span style=\"color: #00af00; text-decoration-color: #00af00\">0</span> │\n",
              "├─────────────────────────────────┼────────────────────────┼───────────────┤\n",
              "│ dropout_10 (<span style=\"color: #0087ff; text-decoration-color: #0087ff\">Dropout</span>)            │ (<span style=\"color: #00d7ff; text-decoration-color: #00d7ff\">None</span>, <span style=\"color: #00af00; text-decoration-color: #00af00\">128</span>)            │             <span style=\"color: #00af00; text-decoration-color: #00af00\">0</span> │\n",
              "├─────────────────────────────────┼────────────────────────┼───────────────┤\n",
              "│ dense_16 (<span style=\"color: #0087ff; text-decoration-color: #0087ff\">Dense</span>)                │ (<span style=\"color: #00d7ff; text-decoration-color: #00d7ff\">None</span>, <span style=\"color: #00af00; text-decoration-color: #00af00\">10</span>)             │         <span style=\"color: #00af00; text-decoration-color: #00af00\">1,290</span> │\n",
              "└─────────────────────────────────┴────────────────────────┴───────────────┘\n",
              "</pre>\n"
            ]
          },
          "metadata": {}
        },
        {
          "output_type": "display_data",
          "data": {
            "text/plain": [
              "\u001b[1m Total params: \u001b[0m\u001b[38;5;34m571,018\u001b[0m (2.18 MB)\n"
            ],
            "text/html": [
              "<pre style=\"white-space:pre;overflow-x:auto;line-height:normal;font-family:Menlo,'DejaVu Sans Mono',consolas,'Courier New',monospace\"><span style=\"font-weight: bold\"> Total params: </span><span style=\"color: #00af00; text-decoration-color: #00af00\">571,018</span> (2.18 MB)\n",
              "</pre>\n"
            ]
          },
          "metadata": {}
        },
        {
          "output_type": "display_data",
          "data": {
            "text/plain": [
              "\u001b[1m Trainable params: \u001b[0m\u001b[38;5;34m569,226\u001b[0m (2.17 MB)\n"
            ],
            "text/html": [
              "<pre style=\"white-space:pre;overflow-x:auto;line-height:normal;font-family:Menlo,'DejaVu Sans Mono',consolas,'Courier New',monospace\"><span style=\"font-weight: bold\"> Trainable params: </span><span style=\"color: #00af00; text-decoration-color: #00af00\">569,226</span> (2.17 MB)\n",
              "</pre>\n"
            ]
          },
          "metadata": {}
        },
        {
          "output_type": "display_data",
          "data": {
            "text/plain": [
              "\u001b[1m Non-trainable params: \u001b[0m\u001b[38;5;34m1,792\u001b[0m (7.00 KB)\n"
            ],
            "text/html": [
              "<pre style=\"white-space:pre;overflow-x:auto;line-height:normal;font-family:Menlo,'DejaVu Sans Mono',consolas,'Courier New',monospace\"><span style=\"font-weight: bold\"> Non-trainable params: </span><span style=\"color: #00af00; text-decoration-color: #00af00\">1,792</span> (7.00 KB)\n",
              "</pre>\n"
            ]
          },
          "metadata": {}
        },
        {
          "output_type": "stream",
          "name": "stdout",
          "text": [
            "Epoch 1/15\n",
            "\u001b[1m1500/1500\u001b[0m \u001b[32m━━━━━━━━━━━━━━━━━━━━\u001b[0m\u001b[37m\u001b[0m \u001b[1m24s\u001b[0m 14ms/step - accuracy: 0.7528 - loss: 0.7129 - val_accuracy: 0.8349 - val_loss: 0.4444\n",
            "Epoch 2/15\n",
            "\u001b[1m1500/1500\u001b[0m \u001b[32m━━━━━━━━━━━━━━━━━━━━\u001b[0m\u001b[37m\u001b[0m \u001b[1m20s\u001b[0m 13ms/step - accuracy: 0.8438 - loss: 0.4405 - val_accuracy: 0.8621 - val_loss: 0.3742\n",
            "Epoch 3/15\n",
            "\u001b[1m1500/1500\u001b[0m \u001b[32m━━━━━━━━━━━━━━━━━━━━\u001b[0m\u001b[37m\u001b[0m \u001b[1m21s\u001b[0m 13ms/step - accuracy: 0.8546 - loss: 0.4024 - val_accuracy: 0.8679 - val_loss: 0.3590\n",
            "Epoch 4/15\n",
            "\u001b[1m1500/1500\u001b[0m \u001b[32m━━━━━━━━━━━━━━━━━━━━\u001b[0m\u001b[37m\u001b[0m \u001b[1m20s\u001b[0m 13ms/step - accuracy: 0.8651 - loss: 0.3706 - val_accuracy: 0.8683 - val_loss: 0.3567\n",
            "Epoch 5/15\n",
            "\u001b[1m1500/1500\u001b[0m \u001b[32m━━━━━━━━━━━━━━━━━━━━\u001b[0m\u001b[37m\u001b[0m \u001b[1m20s\u001b[0m 14ms/step - accuracy: 0.8707 - loss: 0.3574 - val_accuracy: 0.8784 - val_loss: 0.3267\n",
            "Epoch 6/15\n",
            "\u001b[1m1500/1500\u001b[0m \u001b[32m━━━━━━━━━━━━━━━━━━━━\u001b[0m\u001b[37m\u001b[0m \u001b[1m21s\u001b[0m 14ms/step - accuracy: 0.8761 - loss: 0.3353 - val_accuracy: 0.8822 - val_loss: 0.3252\n",
            "Epoch 7/15\n",
            "\u001b[1m1500/1500\u001b[0m \u001b[32m━━━━━━━━━━━━━━━━━━━━\u001b[0m\u001b[37m\u001b[0m \u001b[1m22s\u001b[0m 15ms/step - accuracy: 0.8820 - loss: 0.3218 - val_accuracy: 0.8847 - val_loss: 0.3194\n",
            "Epoch 8/15\n",
            "\u001b[1m1500/1500\u001b[0m \u001b[32m━━━━━━━━━━━━━━━━━━━━\u001b[0m\u001b[37m\u001b[0m \u001b[1m22s\u001b[0m 15ms/step - accuracy: 0.8887 - loss: 0.3066 - val_accuracy: 0.8871 - val_loss: 0.2973\n",
            "Epoch 9/15\n",
            "\u001b[1m1500/1500\u001b[0m \u001b[32m━━━━━━━━━━━━━━━━━━━━\u001b[0m\u001b[37m\u001b[0m \u001b[1m40s\u001b[0m 14ms/step - accuracy: 0.8900 - loss: 0.2955 - val_accuracy: 0.8896 - val_loss: 0.3038\n",
            "Epoch 10/15\n",
            "\u001b[1m1500/1500\u001b[0m \u001b[32m━━━━━━━━━━━━━━━━━━━━\u001b[0m\u001b[37m\u001b[0m \u001b[1m21s\u001b[0m 14ms/step - accuracy: 0.8952 - loss: 0.2850 - val_accuracy: 0.8907 - val_loss: 0.2986\n",
            "Epoch 11/15\n",
            "\u001b[1m1500/1500\u001b[0m \u001b[32m━━━━━━━━━━━━━━━━━━━━\u001b[0m\u001b[37m\u001b[0m \u001b[1m20s\u001b[0m 13ms/step - accuracy: 0.8994 - loss: 0.2736 - val_accuracy: 0.8718 - val_loss: 0.3443\n",
            "Epoch 12/15\n",
            "\u001b[1m1500/1500\u001b[0m \u001b[32m━━━━━━━━━━━━━━━━━━━━\u001b[0m\u001b[37m\u001b[0m \u001b[1m21s\u001b[0m 14ms/step - accuracy: 0.9011 - loss: 0.2696 - val_accuracy: 0.8932 - val_loss: 0.2941\n",
            "Epoch 13/15\n",
            "\u001b[1m1500/1500\u001b[0m \u001b[32m━━━━━━━━━━━━━━━━━━━━\u001b[0m\u001b[37m\u001b[0m \u001b[1m21s\u001b[0m 14ms/step - accuracy: 0.9040 - loss: 0.2603 - val_accuracy: 0.8909 - val_loss: 0.2968\n",
            "Epoch 14/15\n",
            "\u001b[1m1500/1500\u001b[0m \u001b[32m━━━━━━━━━━━━━━━━━━━━\u001b[0m\u001b[37m\u001b[0m \u001b[1m42s\u001b[0m 15ms/step - accuracy: 0.9062 - loss: 0.2565 - val_accuracy: 0.8918 - val_loss: 0.2964\n",
            "Epoch 15/15\n",
            "\u001b[1m1500/1500\u001b[0m \u001b[32m━━━━━━━━━━━━━━━━━━━━\u001b[0m\u001b[37m\u001b[0m \u001b[1m41s\u001b[0m 15ms/step - accuracy: 0.9081 - loss: 0.2478 - val_accuracy: 0.8916 - val_loss: 0.2976\n",
            "\u001b[1m313/313\u001b[0m \u001b[32m━━━━━━━━━━━━━━━━━━━━\u001b[0m\u001b[37m\u001b[0m \u001b[1m1s\u001b[0m 3ms/step - accuracy: 0.8805 - loss: 0.3319\n",
            "\n",
            "Neural Network Test Accuracy: 0.8822000026702881\n"
          ]
        }
      ]
    },
    {
      "cell_type": "markdown",
      "source": [
        "Model Definition (tf.keras.Sequential([...])):\n",
        "tf.keras.Sequential: This is a linear stack of layers.\n",
        "\n",
        "tf.keras.layers.InputLayer(input_shape=(784,)): This layer specifies the input shape of the model. Since the Fashion MNIST images were flattened to a 1D array of 784 pixels, the input shape is set to (784,).\n",
        "\n",
        "tf.keras.layers.Dense(512): This is a fully connected layer with 512 neurons.\n",
        "tf.keras.layers.BatchNormalization(): This layer normalizes the activations of the previous layer. Batch normalization helps in stabilizing the learning process and can lead to faster convergence and better performance.\n",
        "\n",
        "tf.keras.layers.LeakyReLU(alpha=0.01): This is the activation function for the previous dense layer. Leaky ReLU is a variant of ReLU that allows a small, non-zero gradient when the input is negative (alpha controls the slope for negative inputs). This can help prevent \"dying ReLUs\" during training.\n",
        "\n",
        "tf.keras.layers.Dropout(0.25): This layer randomly sets a fraction of input units to 0 at each update during training. Dropout is a regularization technique that helps prevent overfitting. Here, 25% of the neurons will be randomly dropped.\n",
        "\n",
        "tf.keras.layers.Dense(10, activation='softmax'): This is the output layer. It has 10 neurons, corresponding to the 10 classes in the Fashion MNIST dataset. The softmax activation function is used here to output a probability distribution over the 10 classes, where the sum of probabilities for each input is 1.\n",
        "\n",
        "Model Compilation (nn_model.compile(...)):\n",
        "optimizer='adam': The Adam optimizer is used to update the model's weights during training. Adam is a popular and generally effective optimizer.\n",
        "loss=tf.keras.losses.SparseCategoricalCrossentropy(from_logits=False): This specifies the loss function. Sparse Categorical Crossentropy is suitable for multi-class classification problems where the labels are integers (0, 1, 2,...). from_logits=False indicates that the output layer provides probabilities (because of the softmax activation).\n",
        "\n",
        "metrics=['accuracy']: The model will monitor and report the accuracy during training and evaluation.\n",
        "\n",
        "Model Summary (nn_model.summary()):\n",
        "This displays a summary of the model's architecture, including the type of each layer, the output shape of each layer, and the number of parameters (weights and biases) in each layer.\n",
        "\n",
        "nn_model.fit(x_train_nn, y_train, epochs=10, validation_split=0.2): This trains the model using the training data (x_train_nn, y_train).\n",
        "x_train_nn, y_train:\n",
        "The training images and their corresponding labels.\n",
        "epochs=10: The model will iterate over the entire training dataset 10 times.\n",
        "validation_split=0.2: 20% of the training data is held out as a validation set. The model's performance on this validation set is monitored during training, which helps in detecting overfitting.\n",
        "\n",
        "Model Evaluation:\n",
        "nn_model.evaluate(x_test_nn, y_test): This evaluates the trained model on the unseen test data (x_test_nn, y_test) to assess its generalization performance. It returns the test loss and test accuracy.\n",
        "\n",
        "Model Summary: The summary provides details about the layers, their output shapes, and the number of parameters. Number of parameters in each dense layer and the total number of trainable and non-trainable parameters in the model. Batch normalization layers have non-trainable parameters (mean and variance).\n",
        "Training Progress (Epochs): For each epoch, the loss and accuracy on the training data (loss, accuracy) and the validation data (val_loss, val_accuracy).\n",
        "The training loss generally decreases, and training accuracy generally increases over epochs, indicating that the model is learning.\n",
        "The validation loss and accuracy provide insight into how well the model generalizes to unseen data during training. Ideally, the validation performance should follow the training performance closely. If the training performance is much better than the validation performance, it might indicate overfitting.\n",
        "In the provided output, the validation accuracy generally increases, and validation loss generally decreases, which is a good sign.\n",
        "\n",
        "Neural Network Test Accuracy: The final line Neural Network Test Accuracy: 0.8837000131607056 indicates that the trained Neural Network model achieved an accuracy of approximately 88.37% on the test dataset. This means that the model correctly classified about 88.37% of the images in the test set.\n"
      ],
      "metadata": {
        "id": "V723M7tkeubW"
      }
    },
    {
      "cell_type": "code",
      "source": [],
      "metadata": {
        "id": "NObyjvxzfxT8"
      },
      "execution_count": null,
      "outputs": []
    },
    {
      "cell_type": "markdown",
      "metadata": {
        "id": "19c7f194"
      },
      "source": [
        "*## Build, train, and evaluate the Convolutional Neural Network (CNN)*\n",
        "\n"
      ]
    },
    {
      "cell_type": "code",
      "metadata": {
        "id": "df88f041",
        "colab": {
          "base_uri": "https://localhost:8080/",
          "height": 1000
        },
        "outputId": "544defc6-2998-44e3-89b1-759eb455fe70"
      },
      "source": [
        "# Define the CNN model architecture\n",
        "cnn_model = tf.keras.Sequential([\n",
        "    tf.keras.layers.Conv2D(32, (3, 3), activation='relu', input_shape=(28, 28, 1)),\n",
        "    tf.keras.layers.MaxPooling2D((2, 2)),\n",
        "    tf.keras.layers.Conv2D(64, (3, 3), activation='relu'),\n",
        "    tf.keras.layers.MaxPooling2D((2, 2)),\n",
        "    tf.keras.layers.Flatten(),\n",
        "    # First steps of NN\n",
        "    tf.keras.layers.Dense(128),\n",
        "    tf.keras.layers.BatchNormalization(),\n",
        "    tf.keras.layers.LeakyReLU(alpha = 0.01),\n",
        "    tf.keras.layers.Dropout(0.25),\n",
        "    # Output step\n",
        "    tf.keras.layers.Dense(10, activation='softmax')\n",
        "])\n",
        "\n",
        "# Compile the model\n",
        "cnn_model.compile(optimizer='adam',\n",
        "                  loss=tf.keras.losses.SparseCategoricalCrossentropy(from_logits=False),\n",
        "                  metrics=['accuracy'])\n",
        "\n",
        "# Display the model summary\n",
        "cnn_model.summary()\n",
        "\n",
        "# Train the model\n",
        "history_cnn = cnn_model.fit(x_train_cnn, y_train, epochs=15, validation_split=0.2)\n",
        "\n",
        "# Evaluate the model on the test data\n",
        "loss_cnn, accuracy_cnn = cnn_model.evaluate(x_test_cnn, y_test)\n",
        "\n",
        "print(f\"\\nConvolutional Neural Network Test Accuracy: {accuracy_cnn}\")"
      ],
      "execution_count": null,
      "outputs": [
        {
          "output_type": "stream",
          "name": "stderr",
          "text": [
            "/usr/local/lib/python3.11/dist-packages/keras/src/layers/convolutional/base_conv.py:107: UserWarning: Do not pass an `input_shape`/`input_dim` argument to a layer. When using Sequential models, prefer using an `Input(shape)` object as the first layer in the model instead.\n",
            "  super().__init__(activity_regularizer=activity_regularizer, **kwargs)\n"
          ]
        },
        {
          "output_type": "display_data",
          "data": {
            "text/plain": [
              "\u001b[1mModel: \"sequential_5\"\u001b[0m\n"
            ],
            "text/html": [
              "<pre style=\"white-space:pre;overflow-x:auto;line-height:normal;font-family:Menlo,'DejaVu Sans Mono',consolas,'Courier New',monospace\"><span style=\"font-weight: bold\">Model: \"sequential_5\"</span>\n",
              "</pre>\n"
            ]
          },
          "metadata": {}
        },
        {
          "output_type": "display_data",
          "data": {
            "text/plain": [
              "┏━━━━━━━━━━━━━━━━━━━━━━━━━━━━━━━━━┳━━━━━━━━━━━━━━━━━━━━━━━━┳━━━━━━━━━━━━━━━┓\n",
              "┃\u001b[1m \u001b[0m\u001b[1mLayer (type)                   \u001b[0m\u001b[1m \u001b[0m┃\u001b[1m \u001b[0m\u001b[1mOutput Shape          \u001b[0m\u001b[1m \u001b[0m┃\u001b[1m \u001b[0m\u001b[1m      Param #\u001b[0m\u001b[1m \u001b[0m┃\n",
              "┡━━━━━━━━━━━━━━━━━━━━━━━━━━━━━━━━━╇━━━━━━━━━━━━━━━━━━━━━━━━╇━━━━━━━━━━━━━━━┩\n",
              "│ conv2d_8 (\u001b[38;5;33mConv2D\u001b[0m)               │ (\u001b[38;5;45mNone\u001b[0m, \u001b[38;5;34m26\u001b[0m, \u001b[38;5;34m26\u001b[0m, \u001b[38;5;34m32\u001b[0m)     │           \u001b[38;5;34m320\u001b[0m │\n",
              "├─────────────────────────────────┼────────────────────────┼───────────────┤\n",
              "│ max_pooling2d_8 (\u001b[38;5;33mMaxPooling2D\u001b[0m)  │ (\u001b[38;5;45mNone\u001b[0m, \u001b[38;5;34m13\u001b[0m, \u001b[38;5;34m13\u001b[0m, \u001b[38;5;34m32\u001b[0m)     │             \u001b[38;5;34m0\u001b[0m │\n",
              "├─────────────────────────────────┼────────────────────────┼───────────────┤\n",
              "│ conv2d_9 (\u001b[38;5;33mConv2D\u001b[0m)               │ (\u001b[38;5;45mNone\u001b[0m, \u001b[38;5;34m11\u001b[0m, \u001b[38;5;34m11\u001b[0m, \u001b[38;5;34m64\u001b[0m)     │        \u001b[38;5;34m18,496\u001b[0m │\n",
              "├─────────────────────────────────┼────────────────────────┼───────────────┤\n",
              "│ max_pooling2d_9 (\u001b[38;5;33mMaxPooling2D\u001b[0m)  │ (\u001b[38;5;45mNone\u001b[0m, \u001b[38;5;34m5\u001b[0m, \u001b[38;5;34m5\u001b[0m, \u001b[38;5;34m64\u001b[0m)       │             \u001b[38;5;34m0\u001b[0m │\n",
              "├─────────────────────────────────┼────────────────────────┼───────────────┤\n",
              "│ flatten_4 (\u001b[38;5;33mFlatten\u001b[0m)             │ (\u001b[38;5;45mNone\u001b[0m, \u001b[38;5;34m1600\u001b[0m)           │             \u001b[38;5;34m0\u001b[0m │\n",
              "├─────────────────────────────────┼────────────────────────┼───────────────┤\n",
              "│ dense_17 (\u001b[38;5;33mDense\u001b[0m)                │ (\u001b[38;5;45mNone\u001b[0m, \u001b[38;5;34m128\u001b[0m)            │       \u001b[38;5;34m204,928\u001b[0m │\n",
              "├─────────────────────────────────┼────────────────────────┼───────────────┤\n",
              "│ batch_normalization_11          │ (\u001b[38;5;45mNone\u001b[0m, \u001b[38;5;34m128\u001b[0m)            │           \u001b[38;5;34m512\u001b[0m │\n",
              "│ (\u001b[38;5;33mBatchNormalization\u001b[0m)            │                        │               │\n",
              "├─────────────────────────────────┼────────────────────────┼───────────────┤\n",
              "│ leaky_re_lu_11 (\u001b[38;5;33mLeakyReLU\u001b[0m)      │ (\u001b[38;5;45mNone\u001b[0m, \u001b[38;5;34m128\u001b[0m)            │             \u001b[38;5;34m0\u001b[0m │\n",
              "├─────────────────────────────────┼────────────────────────┼───────────────┤\n",
              "│ dropout_11 (\u001b[38;5;33mDropout\u001b[0m)            │ (\u001b[38;5;45mNone\u001b[0m, \u001b[38;5;34m128\u001b[0m)            │             \u001b[38;5;34m0\u001b[0m │\n",
              "├─────────────────────────────────┼────────────────────────┼───────────────┤\n",
              "│ dense_18 (\u001b[38;5;33mDense\u001b[0m)                │ (\u001b[38;5;45mNone\u001b[0m, \u001b[38;5;34m10\u001b[0m)             │         \u001b[38;5;34m1,290\u001b[0m │\n",
              "└─────────────────────────────────┴────────────────────────┴───────────────┘\n"
            ],
            "text/html": [
              "<pre style=\"white-space:pre;overflow-x:auto;line-height:normal;font-family:Menlo,'DejaVu Sans Mono',consolas,'Courier New',monospace\">┏━━━━━━━━━━━━━━━━━━━━━━━━━━━━━━━━━┳━━━━━━━━━━━━━━━━━━━━━━━━┳━━━━━━━━━━━━━━━┓\n",
              "┃<span style=\"font-weight: bold\"> Layer (type)                    </span>┃<span style=\"font-weight: bold\"> Output Shape           </span>┃<span style=\"font-weight: bold\">       Param # </span>┃\n",
              "┡━━━━━━━━━━━━━━━━━━━━━━━━━━━━━━━━━╇━━━━━━━━━━━━━━━━━━━━━━━━╇━━━━━━━━━━━━━━━┩\n",
              "│ conv2d_8 (<span style=\"color: #0087ff; text-decoration-color: #0087ff\">Conv2D</span>)               │ (<span style=\"color: #00d7ff; text-decoration-color: #00d7ff\">None</span>, <span style=\"color: #00af00; text-decoration-color: #00af00\">26</span>, <span style=\"color: #00af00; text-decoration-color: #00af00\">26</span>, <span style=\"color: #00af00; text-decoration-color: #00af00\">32</span>)     │           <span style=\"color: #00af00; text-decoration-color: #00af00\">320</span> │\n",
              "├─────────────────────────────────┼────────────────────────┼───────────────┤\n",
              "│ max_pooling2d_8 (<span style=\"color: #0087ff; text-decoration-color: #0087ff\">MaxPooling2D</span>)  │ (<span style=\"color: #00d7ff; text-decoration-color: #00d7ff\">None</span>, <span style=\"color: #00af00; text-decoration-color: #00af00\">13</span>, <span style=\"color: #00af00; text-decoration-color: #00af00\">13</span>, <span style=\"color: #00af00; text-decoration-color: #00af00\">32</span>)     │             <span style=\"color: #00af00; text-decoration-color: #00af00\">0</span> │\n",
              "├─────────────────────────────────┼────────────────────────┼───────────────┤\n",
              "│ conv2d_9 (<span style=\"color: #0087ff; text-decoration-color: #0087ff\">Conv2D</span>)               │ (<span style=\"color: #00d7ff; text-decoration-color: #00d7ff\">None</span>, <span style=\"color: #00af00; text-decoration-color: #00af00\">11</span>, <span style=\"color: #00af00; text-decoration-color: #00af00\">11</span>, <span style=\"color: #00af00; text-decoration-color: #00af00\">64</span>)     │        <span style=\"color: #00af00; text-decoration-color: #00af00\">18,496</span> │\n",
              "├─────────────────────────────────┼────────────────────────┼───────────────┤\n",
              "│ max_pooling2d_9 (<span style=\"color: #0087ff; text-decoration-color: #0087ff\">MaxPooling2D</span>)  │ (<span style=\"color: #00d7ff; text-decoration-color: #00d7ff\">None</span>, <span style=\"color: #00af00; text-decoration-color: #00af00\">5</span>, <span style=\"color: #00af00; text-decoration-color: #00af00\">5</span>, <span style=\"color: #00af00; text-decoration-color: #00af00\">64</span>)       │             <span style=\"color: #00af00; text-decoration-color: #00af00\">0</span> │\n",
              "├─────────────────────────────────┼────────────────────────┼───────────────┤\n",
              "│ flatten_4 (<span style=\"color: #0087ff; text-decoration-color: #0087ff\">Flatten</span>)             │ (<span style=\"color: #00d7ff; text-decoration-color: #00d7ff\">None</span>, <span style=\"color: #00af00; text-decoration-color: #00af00\">1600</span>)           │             <span style=\"color: #00af00; text-decoration-color: #00af00\">0</span> │\n",
              "├─────────────────────────────────┼────────────────────────┼───────────────┤\n",
              "│ dense_17 (<span style=\"color: #0087ff; text-decoration-color: #0087ff\">Dense</span>)                │ (<span style=\"color: #00d7ff; text-decoration-color: #00d7ff\">None</span>, <span style=\"color: #00af00; text-decoration-color: #00af00\">128</span>)            │       <span style=\"color: #00af00; text-decoration-color: #00af00\">204,928</span> │\n",
              "├─────────────────────────────────┼────────────────────────┼───────────────┤\n",
              "│ batch_normalization_11          │ (<span style=\"color: #00d7ff; text-decoration-color: #00d7ff\">None</span>, <span style=\"color: #00af00; text-decoration-color: #00af00\">128</span>)            │           <span style=\"color: #00af00; text-decoration-color: #00af00\">512</span> │\n",
              "│ (<span style=\"color: #0087ff; text-decoration-color: #0087ff\">BatchNormalization</span>)            │                        │               │\n",
              "├─────────────────────────────────┼────────────────────────┼───────────────┤\n",
              "│ leaky_re_lu_11 (<span style=\"color: #0087ff; text-decoration-color: #0087ff\">LeakyReLU</span>)      │ (<span style=\"color: #00d7ff; text-decoration-color: #00d7ff\">None</span>, <span style=\"color: #00af00; text-decoration-color: #00af00\">128</span>)            │             <span style=\"color: #00af00; text-decoration-color: #00af00\">0</span> │\n",
              "├─────────────────────────────────┼────────────────────────┼───────────────┤\n",
              "│ dropout_11 (<span style=\"color: #0087ff; text-decoration-color: #0087ff\">Dropout</span>)            │ (<span style=\"color: #00d7ff; text-decoration-color: #00d7ff\">None</span>, <span style=\"color: #00af00; text-decoration-color: #00af00\">128</span>)            │             <span style=\"color: #00af00; text-decoration-color: #00af00\">0</span> │\n",
              "├─────────────────────────────────┼────────────────────────┼───────────────┤\n",
              "│ dense_18 (<span style=\"color: #0087ff; text-decoration-color: #0087ff\">Dense</span>)                │ (<span style=\"color: #00d7ff; text-decoration-color: #00d7ff\">None</span>, <span style=\"color: #00af00; text-decoration-color: #00af00\">10</span>)             │         <span style=\"color: #00af00; text-decoration-color: #00af00\">1,290</span> │\n",
              "└─────────────────────────────────┴────────────────────────┴───────────────┘\n",
              "</pre>\n"
            ]
          },
          "metadata": {}
        },
        {
          "output_type": "display_data",
          "data": {
            "text/plain": [
              "\u001b[1m Total params: \u001b[0m\u001b[38;5;34m225,546\u001b[0m (881.04 KB)\n"
            ],
            "text/html": [
              "<pre style=\"white-space:pre;overflow-x:auto;line-height:normal;font-family:Menlo,'DejaVu Sans Mono',consolas,'Courier New',monospace\"><span style=\"font-weight: bold\"> Total params: </span><span style=\"color: #00af00; text-decoration-color: #00af00\">225,546</span> (881.04 KB)\n",
              "</pre>\n"
            ]
          },
          "metadata": {}
        },
        {
          "output_type": "display_data",
          "data": {
            "text/plain": [
              "\u001b[1m Trainable params: \u001b[0m\u001b[38;5;34m225,290\u001b[0m (880.04 KB)\n"
            ],
            "text/html": [
              "<pre style=\"white-space:pre;overflow-x:auto;line-height:normal;font-family:Menlo,'DejaVu Sans Mono',consolas,'Courier New',monospace\"><span style=\"font-weight: bold\"> Trainable params: </span><span style=\"color: #00af00; text-decoration-color: #00af00\">225,290</span> (880.04 KB)\n",
              "</pre>\n"
            ]
          },
          "metadata": {}
        },
        {
          "output_type": "display_data",
          "data": {
            "text/plain": [
              "\u001b[1m Non-trainable params: \u001b[0m\u001b[38;5;34m256\u001b[0m (1.00 KB)\n"
            ],
            "text/html": [
              "<pre style=\"white-space:pre;overflow-x:auto;line-height:normal;font-family:Menlo,'DejaVu Sans Mono',consolas,'Courier New',monospace\"><span style=\"font-weight: bold\"> Non-trainable params: </span><span style=\"color: #00af00; text-decoration-color: #00af00\">256</span> (1.00 KB)\n",
              "</pre>\n"
            ]
          },
          "metadata": {}
        },
        {
          "output_type": "stream",
          "name": "stdout",
          "text": [
            "Epoch 1/15\n",
            "\u001b[1m1500/1500\u001b[0m \u001b[32m━━━━━━━━━━━━━━━━━━━━\u001b[0m\u001b[37m\u001b[0m \u001b[1m53s\u001b[0m 34ms/step - accuracy: 0.8113 - loss: 0.5342 - val_accuracy: 0.8806 - val_loss: 0.3161\n",
            "Epoch 2/15\n",
            "\u001b[1m1500/1500\u001b[0m \u001b[32m━━━━━━━━━━━━━━━━━━━━\u001b[0m\u001b[37m\u001b[0m \u001b[1m79s\u001b[0m 32ms/step - accuracy: 0.8875 - loss: 0.3055 - val_accuracy: 0.8897 - val_loss: 0.3030\n",
            "Epoch 3/15\n",
            "\u001b[1m1500/1500\u001b[0m \u001b[32m━━━━━━━━━━━━━━━━━━━━\u001b[0m\u001b[37m\u001b[0m \u001b[1m83s\u001b[0m 33ms/step - accuracy: 0.9023 - loss: 0.2651 - val_accuracy: 0.8863 - val_loss: 0.3086\n",
            "Epoch 4/15\n",
            "\u001b[1m1500/1500\u001b[0m \u001b[32m━━━━━━━━━━━━━━━━━━━━\u001b[0m\u001b[37m\u001b[0m \u001b[1m81s\u001b[0m 32ms/step - accuracy: 0.9140 - loss: 0.2320 - val_accuracy: 0.8574 - val_loss: 0.4045\n",
            "Epoch 5/15\n",
            "\u001b[1m1500/1500\u001b[0m \u001b[32m━━━━━━━━━━━━━━━━━━━━\u001b[0m\u001b[37m\u001b[0m \u001b[1m83s\u001b[0m 33ms/step - accuracy: 0.9233 - loss: 0.2086 - val_accuracy: 0.9045 - val_loss: 0.2700\n",
            "Epoch 6/15\n",
            "\u001b[1m1500/1500\u001b[0m \u001b[32m━━━━━━━━━━━━━━━━━━━━\u001b[0m\u001b[37m\u001b[0m \u001b[1m82s\u001b[0m 33ms/step - accuracy: 0.9279 - loss: 0.1918 - val_accuracy: 0.9117 - val_loss: 0.2490\n",
            "Epoch 7/15\n",
            "\u001b[1m1500/1500\u001b[0m \u001b[32m━━━━━━━━━━━━━━━━━━━━\u001b[0m\u001b[37m\u001b[0m \u001b[1m83s\u001b[0m 34ms/step - accuracy: 0.9370 - loss: 0.1714 - val_accuracy: 0.9003 - val_loss: 0.2712\n",
            "Epoch 8/15\n",
            "\u001b[1m1500/1500\u001b[0m \u001b[32m━━━━━━━━━━━━━━━━━━━━\u001b[0m\u001b[37m\u001b[0m \u001b[1m80s\u001b[0m 33ms/step - accuracy: 0.9415 - loss: 0.1552 - val_accuracy: 0.8970 - val_loss: 0.2815\n",
            "Epoch 9/15\n",
            "\u001b[1m1500/1500\u001b[0m \u001b[32m━━━━━━━━━━━━━━━━━━━━\u001b[0m\u001b[37m\u001b[0m \u001b[1m81s\u001b[0m 32ms/step - accuracy: 0.9483 - loss: 0.1414 - val_accuracy: 0.9137 - val_loss: 0.2551\n",
            "Epoch 10/15\n",
            "\u001b[1m1500/1500\u001b[0m \u001b[32m━━━━━━━━━━━━━━━━━━━━\u001b[0m\u001b[37m\u001b[0m \u001b[1m81s\u001b[0m 32ms/step - accuracy: 0.9478 - loss: 0.1364 - val_accuracy: 0.9149 - val_loss: 0.2569\n",
            "Epoch 11/15\n",
            "\u001b[1m1500/1500\u001b[0m \u001b[32m━━━━━━━━━━━━━━━━━━━━\u001b[0m\u001b[37m\u001b[0m \u001b[1m79s\u001b[0m 29ms/step - accuracy: 0.9538 - loss: 0.1231 - val_accuracy: 0.9127 - val_loss: 0.2673\n",
            "Epoch 12/15\n",
            "\u001b[1m1500/1500\u001b[0m \u001b[32m━━━━━━━━━━━━━━━━━━━━\u001b[0m\u001b[37m\u001b[0m \u001b[1m89s\u001b[0m 34ms/step - accuracy: 0.9583 - loss: 0.1141 - val_accuracy: 0.9174 - val_loss: 0.2720\n",
            "Epoch 13/15\n",
            "\u001b[1m1500/1500\u001b[0m \u001b[32m━━━━━━━━━━━━━━━━━━━━\u001b[0m\u001b[37m\u001b[0m \u001b[1m49s\u001b[0m 33ms/step - accuracy: 0.9622 - loss: 0.1021 - val_accuracy: 0.9192 - val_loss: 0.2699\n",
            "Epoch 14/15\n",
            "\u001b[1m1500/1500\u001b[0m \u001b[32m━━━━━━━━━━━━━━━━━━━━\u001b[0m\u001b[37m\u001b[0m \u001b[1m82s\u001b[0m 32ms/step - accuracy: 0.9630 - loss: 0.1003 - val_accuracy: 0.9122 - val_loss: 0.2915\n",
            "Epoch 15/15\n",
            "\u001b[1m1500/1500\u001b[0m \u001b[32m━━━━━━━━━━━━━━━━━━━━\u001b[0m\u001b[37m\u001b[0m \u001b[1m81s\u001b[0m 32ms/step - accuracy: 0.9682 - loss: 0.0867 - val_accuracy: 0.9175 - val_loss: 0.3023\n",
            "\u001b[1m313/313\u001b[0m \u001b[32m━━━━━━━━━━━━━━━━━━━━\u001b[0m\u001b[37m\u001b[0m \u001b[1m3s\u001b[0m 9ms/step - accuracy: 0.9096 - loss: 0.3165\n",
            "\n",
            "Convolutional Neural Network Test Accuracy: 0.9108999967575073\n"
          ]
        }
      ]
    },
    {
      "cell_type": "markdown",
      "source": [
        "Here's an explanation of each layer in your cnn_model:\n",
        "\n",
        "tf.keras.layers.Conv2D(32, (3, 3), activation='relu', input_shape=(28, 28, 1)):\n",
        "\n",
        "Conv2D: This layer performs 2D convolution, which is a fundamental operation in CNNs for extracting features from images.\n",
        "32: This is the number of filters (or kernels) the layer learns. Each filter detects a specific feature in the image.\n",
        "\n",
        "(3, 3): This is the size of the convolution kernel (a 3x3 window).\n",
        "activation='relu': The Rectified Linear Unit (ReLU) activation function is applied after the convolution. It introduces non-linearity, which is crucial for learning complex patterns.\n",
        "\n",
        "input_shape=(28, 28, 1): This specifies the shape of the input images. It's 28x28 pixels with 1 channel (since the Fashion MNIST images are grayscale). This is only needed for the first layer.\n",
        "\n",
        "tf.keras.layers.MaxPooling2D((2, 2)): This is a max pooling layer.\n",
        "MaxPooling2D: This layer downsamples the input by taking the maximum value within a specified window.\n",
        "(2, 2): This is the size of the pooling window. A 2x2 window means the layer will reduce the spatial dimensions (height and width) by half. Pooling helps to reduce the number of parameters and computation, as well as makes the model more robust to small variations in the input.\n",
        "\n",
        "tf.keras.layers.Flatten():\n",
        "This layer flattens the output of the previous convolutional and pooling layers into a 1D array. This is necessary because the subsequent dense layers expect a 1D input.\n",
        "\n",
        "tf.keras.layers.Dense(128):\n",
        "This is a fully connected (dense) layer with 128 neurons. It takes the flattened output from the convolutional layers and processes it further.\n",
        "tf.keras.layers.BatchNormalization():\n",
        "As in the NN model, this normalizes the activations of the previous layer to stabilize training.\n",
        "tf.keras.layers.LeakyReLU(alpha = 0.01):\n",
        "The Leaky ReLU activation function is applied.\n",
        "tf.keras.layers.Dropout(0.25):\n",
        "Dropout is applied to prevent overfitting.\n",
        "\n",
        "tf.keras.layers.Dense(10, activation='softmax'):\n",
        "This is the output layer, identical to the one in the NN model. It has 10 neurons for the 10 classes and uses softmax to output probabilities.\n",
        "\n",
        "In summary:\n",
        "The CNN architecture uses convolutional and pooling layers to automatically learn spatial hierarchies of features from the images. The convolutional layers extract local patterns (like edges and corners), and the pooling layers progressively reduce the spatial size while keeping the most important information. The flattened output is then fed into dense layers for classification. This structure makes CNNs particularly effective for image-related tasks."
      ],
      "metadata": {
        "id": "94dZBqHtES_c"
      }
    },
    {
      "cell_type": "markdown",
      "metadata": {
        "id": "5e201b7c"
      },
      "source": [
        "## Sample Predictions and Performance Comparison\n",
        "\n",
        "Here we will display sample predictions for both the Neural Network and Convolutional Neural Network models and then compare their performance based on test accuracy."
      ]
    },
    {
      "cell_type": "code",
      "metadata": {
        "id": "7c5bc93a",
        "colab": {
          "base_uri": "https://localhost:8080/",
          "height": 475
        },
        "outputId": "e98a30a3-4049-43df-f093-37f9d87c74ff"
      },
      "source": [
        "import numpy as np\n",
        "import matplotlib.pyplot as plt\n",
        "\n",
        "class_names = ['T-shirt/top', 'Trouser', 'Pullover', 'Dress', 'Coat',\n",
        "               'Sandal', 'Shirt', 'Sneaker', 'Bag', 'Ankle boot']\n",
        "\n",
        "def plot_predictions(model, test_images, test_labels, num_samples=5):\n",
        "    \"\"\"Plots sample images with their predicted and actual labels.\"\"\"\n",
        "    predictions = model.predict(test_images)\n",
        "    plt.figure(figsize=(10, 5))\n",
        "    for i in range(num_samples):\n",
        "        plt.subplot(1, num_samples, i + 1)\n",
        "        plt.imshow(test_images[i].reshape(28, 28), cmap=plt.cm.binary)\n",
        "        predicted_label = np.argmax(predictions[i])\n",
        "        actual_label = test_labels[i]\n",
        "        plt.title(f\"Pred: {class_names[predicted_label]}\\nActual: {class_names[actual_label]}\")\n",
        "        plt.axis('off')\n",
        "    plt.tight_layout()\n",
        "    plt.show()\n",
        "\n",
        "print(\"Sample Predictions for Neural Network:\")\n",
        "plot_predictions(nn_model, x_test_nn, y_test)\n",
        "\n",
        "print(\"\\nSample Predictions for Convolutional Neural Network:\")\n",
        "plot_predictions(cnn_model, x_test_cnn, y_test)"
      ],
      "execution_count": null,
      "outputs": [
        {
          "output_type": "stream",
          "name": "stdout",
          "text": [
            "Sample Predictions for Neural Network:\n",
            "\u001b[1m313/313\u001b[0m \u001b[32m━━━━━━━━━━━━━━━━━━━━\u001b[0m\u001b[37m\u001b[0m \u001b[1m2s\u001b[0m 6ms/step\n"
          ]
        },
        {
          "output_type": "display_data",
          "data": {
            "text/plain": [
              "<Figure size 1000x500 with 5 Axes>"
            ],
            "image/png": "[encoded data removed]"
          },
          "metadata": {}
        },
        {
          "output_type": "stream",
          "name": "stdout",
          "text": [
            "\n",
            "Sample Predictions for Convolutional Neural Network:\n",
            "\u001b[1m313/313\u001b[0m \u001b[32m━━━━━━━━━━━━━━━━━━━━\u001b[0m\u001b[37m\u001b[0m \u001b[1m3s\u001b[0m 8ms/step\n"
          ]
        },
        {
          "output_type": "display_data",
          "data": {
            "text/plain": [
              "<Figure size 1000x500 with 5 Axes>"
            ],
            "image/png": "[encoded data removed]"
          },
          "metadata": {}
        }
      ]
    },
    {
      "cell_type": "markdown",
      "source": [
        "This function takes a trained model, test images, test labels, and an optional number of samples to plot as input.\n",
        "\n",
        "predictions = model.predict(test_images): This line uses the provided model to make predictions on the test_images. The output predictions will be an array where each row represents an image, and the columns contain the probabilities for each of the 10 classes.\n",
        "\n",
        "plt.figure(figsize=(10, 5)):\n",
        "This creates a new matplotlib figure to display the plots. The figsize argument sets the width and height of the figure in inches.\n",
        "for i in range(num_samples):: This loop iterates through the first num_samples of the test images.\n",
        "plt.subplot(1, num_samples, i + 1): This creates a subplot within the figure. 1 indicates 1 row of subplots, num_samples indicates the number of columns, and i + 1 indicates the current subplot's position.\n",
        "plt.imshow(test_images[i].reshape(28, 28), cmap=plt.cm.binary): This displays the i-th test image.\n",
        "test_images[i].reshape(28, 28): Reshapes the image data back to its original 28x28 pixel format for plotting.\n",
        "cmap=plt.cm.binary: Sets the colormap to grayscale.\n",
        "predicted_label = np.argmax(predictions[i]): This finds the index of the class with the highest predicted probability for the i-th image. This index corresponds to the model's predicted class.\n",
        "actual_label = test_labels[i]: This gets the actual class label for the i-th image from the test_labels.\n",
        "plt.title(f\"Pred: {class_names[predicted_label]}\\nActual: {class_names[actual_label]}\"): This sets the title for the current subplot, showing both the predicted and actual class names. class_names is a list that maps the integer labels to human-readable names.\n",
        "plt.axis('off'): This hides the axes for a cleaner look.\n",
        "plt.tight_layout(): This adjusts the spacing between subplots to prevent overlap.\n",
        "plt.show(): This displays the figure with all the subplots.\n",
        "Interpretation of the Results:\n",
        "\n",
        "The output shows sample predictions for both the Neural Network and the Convolutional Neural Network. For each sample image, you see:\n",
        "\n",
        "Comparing the predictions from the NN and CNN plots side-by-side for the same sample images can give an intuitive understanding of how their different architectures might lead to different predictions, especially for images that are ambiguous or challenging to classify.\n",
        "\n",
        "The test accuracy printed after the plots quantifies the overall performance of each model on the entire test dataset, which is a more comprehensive measure than looking at just a few samples. In this case, the CNN has a higher test accuracy, suggesting it generally performs better at classifying the Fashion MNIST images."
      ],
      "metadata": {
        "id": "VOwfvxGke16v"
      }
    },
    {
      "cell_type": "markdown",
      "metadata": {
        "id": "01f15098"
      },
      "source": [
        "## Performance Summary\n",
        "\n",
        "Now let's summarize the test accuracies of both models."
      ]
    },
    {
      "cell_type": "code",
      "metadata": {
        "id": "3eadaa4a",
        "colab": {
          "base_uri": "https://localhost:8080/"
        },
        "outputId": "49db0168-c35d-41dd-ba58-4cf8993df81d"
      },
      "source": [
        "print(f\"Neural Network Test Accuracy: {accuracy_nn:.4f}\")\n",
        "print(f\"Convolutional Neural Network Test Accuracy: {accuracy_cnn:.4f}\")\n",
        "\n",
        "if accuracy_cnn > accuracy_nn:\n",
        "    print(f\"\\nThe CNN performed better than the NN by {(accuracy_cnn - accuracy_nn):.4f}%.\")\n",
        "elif accuracy_nn > accuracy_cnn:\n",
        "    print(f\"\\nThe NN performed better than the CNN by {(accuracy_nn - accuracy_cnn):.4f}%.\")\n",
        "else:\n",
        "    print(\"\\nThe CNN and NN performed equally well.\")"
      ],
      "execution_count": null,
      "outputs": [
        {
          "output_type": "stream",
          "name": "stdout",
          "text": [
            "Neural Network Test Accuracy: 0.8822\n",
            "Convolutional Neural Network Test Accuracy: 0.9109\n",
            "\n",
            "The CNN performed better than the NN by 0.0287%.\n"
          ]
        }
      ]
    },
    {
      "cell_type": "markdown",
      "metadata": {
        "id": "555c7911"
      },
      "source": [
        "## Finish task\n",
        "The task is complete. We have built, trained, and evaluated both a Neural Network and a Convolutional Neural Network on the Fashion MNIST dataset. We have also compared their performance and displayed sample predictions."
      ]
    },
    {
      "cell_type": "code",
      "metadata": {
        "colab": {
          "base_uri": "https://localhost:8080/",
          "height": 468
        },
        "id": "10de8ef6",
        "outputId": "6601724f-4c4e-4f03-eaa8-6d1f2badc873"
      },
      "source": [
        "# Model names and their accuracies\n",
        "models = ['Neural Network', 'Convolutional Neural Network']\n",
        "accuracies = [accuracy_nn, accuracy_cnn]\n",
        "\n",
        "# Create the bar plot\n",
        "plt.figure(figsize=(8, 5))\n",
        "plt.bar(models, accuracies, color=['blue', 'green'])\n",
        "plt.ylabel('Test Accuracy')\n",
        "plt.title('Comparison of Neural Network and CNN Test Accuracies')\n",
        "plt.ylim(0.8, 1.0) # Set y-axis limits for better visualization of differences\n",
        "\n",
        "# Add accuracy values on top of the bars\n",
        "for i, v in enumerate(accuracies):\n",
        "    plt.text(i, v + 0.005, f\"{v:.4f}\", ha='center')\n",
        "\n",
        "plt.show()"
      ],
      "execution_count": null,
      "outputs": [
        {
          "output_type": "display_data",
          "data": {
            "text/plain": [
              "<Figure size 800x500 with 1 Axes>"
            ],
            "image/png": "[encoded data removed]"
          },
          "metadata": {}
        }
      ]
    },
    {
      "cell_type": "markdown",
      "source": [
        "The bar plot clearly shows the difference in test accuracy between the Neural Network and the Convolutional Neural Network.\n",
        "\n",
        "Based on the plot and the printed accuracies:\n",
        "\n",
        "The Neural Network achieved a test accuracy of approximately 0.8776.\n",
        "The Convolutional Neural Network achieved a test accuracy of approximately 0.9137.\n",
        "The CNN performed better than the NN, which is expected for image classification tasks due to its ability to effectively capture spatial hierarchies and local patterns through convolutional and pooling layers.\n",
        "\n",
        "We have successfully built, trained, and evaluated both models, visualized sample predictions, and compared their overall performance.\n"
      ],
      "metadata": {
        "id": "QR-655ahvpz9"
      }
    }
  ]
}